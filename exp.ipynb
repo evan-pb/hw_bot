{
 "cells": [
  {
   "cell_type": "code",
   "execution_count": null,
   "metadata": {},
   "outputs": [],
   "source": [
    "import time as t\n",
    "import random as r\n",
    "import pyautogui as pag\n",
    "import numpy as np\n",
    "import pyperclip as pyc\n",
    "import threading as th\n",
    "from openai import OpenAI\n",
    "from pynput import keyboard\n",
    "import os\n",
    "import sys\n",
    "client = OpenAI()"
   ]
  },
  {
   "cell_type": "code",
   "execution_count": null,
   "metadata": {},
   "outputs": [],
   "source": [
    "import importlib\n",
    "import fullbot as F\n",
    "\n",
    "importlib.reload(F)"
   ]
  },
  {
   "cell_type": "markdown",
   "metadata": {},
   "source": [
    "https://learnwithhasan.com/openai-assistants-guide-python-example/\n",
    "\n",
    "https://platform.openai.com/docs/guides/prompt-engineering"
   ]
  },
  {
   "cell_type": "code",
   "execution_count": null,
   "metadata": {},
   "outputs": [],
   "source": [
    "key_board = np.array(\n",
    "    [\n",
    "        [\"q\", \"w\", \"e\", \"r\", \"t\", \"y\", \"u\", \"i\", \"o\", \"p\"],\n",
    "        [\"a\", \"s\", \"d\", \"f\", \"g\", \"h\", \"j\", \"k\", \"l\", \";\"],\n",
    "        [\"z\", \"x\", \"c\", \"v\", \"b\", \"n\", \"m\", \",\", \".\", \"/\"],\n",
    "    ]\n",
    ")\n",
    "idx = np.where(key_board == \"n\")\n",
    "idx[0][0], idx[1][0]"
   ]
  },
  {
   "cell_type": "code",
   "execution_count": null,
   "metadata": {},
   "outputs": [],
   "source": [
    "t.sleep(3)\n",
    "F.auto_type(\"Hello\")"
   ]
  },
  {
   "cell_type": "code",
   "execution_count": null,
   "metadata": {},
   "outputs": [],
   "source": [
    "def on_press(key):\n",
    "    if key == keyboard.Key.alt_l:\n",
    "        print(\"pressed\")"
   ]
  },
  {
   "cell_type": "code",
   "execution_count": 63,
   "metadata": {},
   "outputs": [],
   "source": [
    "def get_chat_response(prompt: str) -> str:\n",
    "    completion = client.chat.completions.create(\n",
    "        model=\"gpt-3.5-turbo\",\n",
    "        messages=[\n",
    "            {\"role\": \"system\", \"content\": \"\"},\n",
    "            {\n",
    "                \"role\": \"user\",\n",
    "                \"content\": prompt\n",
    "            }\n",
    "        ]\n",
    "    )\n",
    "    return completion.choices[0].message.content"
   ]
  },
  {
   "cell_type": "code",
   "execution_count": 54,
   "metadata": {},
   "outputs": [],
   "source": [
    "def typo(word: str, pos: bool):\n",
    "    # pos True = typo at beginning of word, pos False = typo at end of word\n",
    "    key_board = np.array(\n",
    "        [\n",
    "            [\"q\", \"w\", \"e\", \"r\", \"t\", \"y\", \"u\", \"i\", \"o\", \"p\"],\n",
    "            [\"a\", \"s\", \"d\", \"f\", \"g\", \"h\", \"j\", \"k\", \"l\", \";\"],\n",
    "            [\"z\", \"x\", \"c\", \"v\", \"b\", \"n\", \"m\", \",\", \".\", \"/\"],\n",
    "        ]\n",
    "    )\n",
    "    # length of typo\n",
    "    typo_length = r.choice([1, 3])\n",
    "    if (pos and word[0].lower() in key_board) or (not pos and word[-1].lower() in key_board):\n",
    "        if pos:\n",
    "            idx = np.where(key_board == word[0].lower())\n",
    "        else:\n",
    "            idx = np.where(key_board == word[-1].lower())\n",
    "        ord_pair = np.hstack([idx[0][0], idx[1][0]])\n",
    "        # construct all possible location for typo letters\n",
    "        locations = np.array(\n",
    "            [\n",
    "                [ord_pair[0] + 1, ord_pair[1]],\n",
    "                [ord_pair[0] - 1, ord_pair[1]],\n",
    "                [ord_pair[0], ord_pair[1] + 1],\n",
    "                [ord_pair[0], ord_pair[1] - 1],\n",
    "            ]\n",
    "        )\n",
    "        for _ in range(typo_length):\n",
    "            while True:\n",
    "                try:\n",
    "                    bad_letter_idx = r.choice(locations)\n",
    "                    pag.write(f\"{key_board[*bad_letter_idx]}\")\n",
    "                except IndexError:\n",
    "                    continue\n",
    "                break\n",
    "        t.sleep(0.2)\n",
    "        for _ in range(typo_length):\n",
    "            pag.press(\"backspace\")"
   ]
  },
  {
   "cell_type": "code",
   "execution_count": 60,
   "metadata": {},
   "outputs": [],
   "source": [
    "def auto_type(string: str):\n",
    "    times = np.linspace(0.01, 0.07, 4)\n",
    "    for word in string.split(\" \"):\n",
    "        typo(word, True) if r.random() < 0.025 else None\n",
    "        pag.write(word, interval=r.choice(times))\n",
    "        typo(word, False) if r.random() < 0.025 else None\n",
    "        pag.write(\" \")"
   ]
  },
  {
   "cell_type": "code",
   "execution_count": 58,
   "metadata": {},
   "outputs": [
    {
     "data": {
      "text/plain": [
       "ChatCompletionMessage(content='Hello! How can I assist you today?', refusal=None, role='assistant', function_call=None, tool_calls=None)"
      ]
     },
     "execution_count": 58,
     "metadata": {},
     "output_type": "execute_result"
    }
   ],
   "source": [
    "get_chat_response(prompt=\"Hello\")"
   ]
  },
  {
   "cell_type": "code",
   "execution_count": null,
   "metadata": {},
   "outputs": [],
   "source": [
    "t.sleep(5)\n",
    "pag.hotkey(\"ctrl\", \"b\")"
   ]
  },
  {
   "cell_type": "code",
   "execution_count": null,
   "metadata": {},
   "outputs": [],
   "source": [
    "print(pyc.paste().rstrip())"
   ]
  },
  {
   "cell_type": "code",
   "execution_count": 61,
   "metadata": {},
   "outputs": [],
   "source": [
    "t.sleep(3)\n",
    "auto_type(\"qpz. /qpz qpz// qpz;a/ .xow\")"
   ]
  },
  {
   "cell_type": "markdown",
   "metadata": {},
   "source": [
    "qpz. /qpz qpz// qpz;a/ .xow "
   ]
  },
  {
   "cell_type": "code",
   "execution_count": 64,
   "metadata": {},
   "outputs": [],
   "source": [
    "auto_type(get_chat_response(\"How are you doing\"))"
   ]
  },
  {
   "cell_type": "markdown",
   "metadata": {},
   "source": []
  },
  {
   "cell_type": "markdown",
   "metadata": {},
   "source": []
  },
  {
   "cell_type": "markdown",
   "metadata": {},
   "source": [
    ", so I don't have feelings or emotions, but I'm here and ready to help you with anything you need. How can I assist you today? "
   ]
  },
  {
   "cell_type": "code",
   "execution_count": 2,
   "metadata": {},
   "outputs": [
    {
     "data": {
      "text/plain": [
       "False"
      ]
     },
     "execution_count": 2,
     "metadata": {},
     "output_type": "execute_result"
    }
   ],
   "source": [
    "\"truck\" in \"firetruck\""
   ]
  }
 ],
 "metadata": {
  "kernelspec": {
   "display_name": "Python 3",
   "language": "python",
   "name": "python3"
  },
  "language_info": {
   "codemirror_mode": {
    "name": "ipython",
    "version": 3
   },
   "file_extension": ".py",
   "mimetype": "text/x-python",
   "name": "python",
   "nbconvert_exporter": "python",
   "pygments_lexer": "ipython3",
   "version": "3.12.3"
  }
 },
 "nbformat": 4,
 "nbformat_minor": 2
}
